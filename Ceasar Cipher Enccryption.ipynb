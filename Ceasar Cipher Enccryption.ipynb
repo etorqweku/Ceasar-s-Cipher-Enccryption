{
 "cells": [
  {
   "cell_type": "code",
   "execution_count": 33,
   "metadata": {},
   "outputs": [],
   "source": [
    "#create a function to encrypt text \n",
    "def encrypt(string,shift):\n",
    "    #declear an empty string to hold encrypted text\n",
    "    ciper=''\n",
    "    #a loop to go through the text and shift the letters\n",
    "    for char in string:\n",
    "        if char==' ':\n",
    "            ciper+= char\n",
    "        elif char.isupper():\n",
    "            #using ASCII code where A=65, ord() to return the ASCII code of the character \n",
    "            # and chr() to return the character of the ASCII code\n",
    "            ciper+=chr((ord(char)+shift-65)%26+65)\n",
    "        else:\n",
    "            #using ASCII code where a=97, ord() to return the ASCII code of the character \n",
    "            # and chr() to return the character of the ASCII code\n",
    "            ciper+=chr((ord(char)+shift-97)%26+97)\n",
    "    return ciper\n",
    "\n"
   ]
  },
  {
   "cell_type": "code",
   "execution_count": 34,
   "metadata": {},
   "outputs": [],
   "source": [
    "def decrypt(string,shift):\n",
    "    #declear an empty string to hold decrypted text\n",
    "    ciper=''\n",
    "    #a loop to go through the text and shift the letters\n",
    "    for char in string:\n",
    "        if char==' ':\n",
    "            ciper+= char\n",
    "        elif char.isupper():\n",
    "            #using ASCII code where A=65, ord() to return the ASCII code of the character \n",
    "            # and chr() to return the character of the ASCII code\n",
    "            ciper+=chr((ord(char)-shift+65)%26+65)\n",
    "        else:\n",
    "            #using ASCII code where a=97, ord() to return the ASCII code of the character \n",
    "            # and chr() to return the character of the ASCII code\n",
    "            ciper+=chr((ord(char)-shift-97)%26+97)\n",
    "    return ciper"
   ]
  },
  {
   "cell_type": "code",
   "execution_count": 38,
   "metadata": {},
   "outputs": [
    {
     "name": "stdout",
     "output_type": "stream",
     "text": [
      "Welcome\n",
      "Decryption\n",
      "Your text : F ilsb vlr\n",
      "Decrypted version : I love you\n"
     ]
    }
   ],
   "source": [
    "print('Welcome')\n",
    "type=input('Enter E to Encrypt or D to Decrypt')\n",
    "if type.upper()=='E':\n",
    "    print('Encryption')\n",
    "    text= input('Enter the text to encrypt')\n",
    "    s=int(input('Enter shift key'))\n",
    "    print(f'Your text : {text}')\n",
    "    print(f'Encrypted version : {encrypt(text,s)}')\n",
    "elif type.upper()=='D':\n",
    "    print('Decryption')\n",
    "    text= input('Enter the text to decrypt')\n",
    "    s=int(input('Enter shift key'))\n",
    "    print(f'Your text : {text}')\n",
    "    print(f'Decrypted version : {decrypt(text,s)}')\n",
    "else:\n",
    "    print('You entered the wrong value')\n"
   ]
  },
  {
   "cell_type": "code",
   "execution_count": 16,
   "metadata": {},
   "outputs": [
    {
     "data": {
      "text/plain": [
       "19"
      ]
     },
     "execution_count": 16,
     "metadata": {},
     "output_type": "execute_result"
    }
   ],
   "source": [
    "201%26\n",
    "F ilsb vlr"
   ]
  },
  {
   "cell_type": "code",
   "execution_count": 40,
   "metadata": {},
   "outputs": [
    {
     "name": "stdout",
     "output_type": "stream",
     "text": [
      "97\n"
     ]
    },
    {
     "data": {
      "text/plain": [
       "'a'"
      ]
     },
     "execution_count": 40,
     "metadata": {},
     "output_type": "execute_result"
    }
   ],
   "source": [
    "print(ord('a'))\n",
    "chr(97)"
   ]
  }
 ],
 "metadata": {
  "kernelspec": {
   "display_name": "Python 3",
   "language": "python",
   "name": "python3"
  },
  "language_info": {
   "codemirror_mode": {
    "name": "ipython",
    "version": 3
   },
   "file_extension": ".py",
   "mimetype": "text/x-python",
   "name": "python",
   "nbconvert_exporter": "python",
   "pygments_lexer": "ipython3",
   "version": "3.10.2"
  },
  "orig_nbformat": 4,
  "vscode": {
   "interpreter": {
    "hash": "0bac663df009b53122217429cbd790f92a9841728e5baea49cf1b4cb39e09ae6"
   }
  }
 },
 "nbformat": 4,
 "nbformat_minor": 2
}
